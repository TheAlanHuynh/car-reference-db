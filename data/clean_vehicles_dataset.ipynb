{
 "cells": [
  {
   "cell_type": "code",
   "execution_count": 1,
   "id": "eaeed1e0-ad82-45cd-a2ff-4047fcdf101b",
   "metadata": {},
   "outputs": [
    {
     "data": {
      "text/html": [
       "<div>\n",
       "<style scoped>\n",
       "    .dataframe tbody tr th:only-of-type {\n",
       "        vertical-align: middle;\n",
       "    }\n",
       "\n",
       "    .dataframe tbody tr th {\n",
       "        vertical-align: top;\n",
       "    }\n",
       "\n",
       "    .dataframe thead th {\n",
       "        text-align: right;\n",
       "    }\n",
       "</style>\n",
       "<table border=\"1\" class=\"dataframe\">\n",
       "  <thead>\n",
       "    <tr style=\"text-align: right;\">\n",
       "      <th></th>\n",
       "      <th>price</th>\n",
       "      <th>year</th>\n",
       "      <th>manufacturer</th>\n",
       "      <th>model</th>\n",
       "      <th>condition</th>\n",
       "      <th>cylinders</th>\n",
       "      <th>fuel</th>\n",
       "      <th>odometer</th>\n",
       "      <th>title_status</th>\n",
       "      <th>transmission</th>\n",
       "      <th>drive</th>\n",
       "      <th>type</th>\n",
       "      <th>paint_color</th>\n",
       "      <th>state</th>\n",
       "      <th>created_at</th>\n",
       "    </tr>\n",
       "  </thead>\n",
       "  <tbody>\n",
       "    <tr>\n",
       "      <th>0</th>\n",
       "      <td>45346</td>\n",
       "      <td>2014.0</td>\n",
       "      <td>gmc</td>\n",
       "      <td>sierra 1500 crew cab slt</td>\n",
       "      <td>good</td>\n",
       "      <td>8 cylinders</td>\n",
       "      <td>gas</td>\n",
       "      <td>93218</td>\n",
       "      <td>clean</td>\n",
       "      <td>other</td>\n",
       "      <td>None</td>\n",
       "      <td>pickup</td>\n",
       "      <td>white</td>\n",
       "      <td>al</td>\n",
       "      <td>2025-06-01</td>\n",
       "    </tr>\n",
       "    <tr>\n",
       "      <th>1</th>\n",
       "      <td>30497</td>\n",
       "      <td>2010.0</td>\n",
       "      <td>chevrolet</td>\n",
       "      <td>silverado 1500</td>\n",
       "      <td>good</td>\n",
       "      <td>8 cylinders</td>\n",
       "      <td>gas</td>\n",
       "      <td>114632</td>\n",
       "      <td>clean</td>\n",
       "      <td>other</td>\n",
       "      <td>None</td>\n",
       "      <td>pickup</td>\n",
       "      <td>blue</td>\n",
       "      <td>al</td>\n",
       "      <td>2025-06-01</td>\n",
       "    </tr>\n",
       "    <tr>\n",
       "      <th>2</th>\n",
       "      <td>53446</td>\n",
       "      <td>2020.0</td>\n",
       "      <td>chevrolet</td>\n",
       "      <td>silverado 1500 crew</td>\n",
       "      <td>good</td>\n",
       "      <td>8 cylinders</td>\n",
       "      <td>gas</td>\n",
       "      <td>30835</td>\n",
       "      <td>clean</td>\n",
       "      <td>other</td>\n",
       "      <td>None</td>\n",
       "      <td>pickup</td>\n",
       "      <td>red</td>\n",
       "      <td>al</td>\n",
       "      <td>2025-06-01</td>\n",
       "    </tr>\n",
       "    <tr>\n",
       "      <th>3</th>\n",
       "      <td>41836</td>\n",
       "      <td>2017.0</td>\n",
       "      <td>toyota</td>\n",
       "      <td>tundra double cab sr</td>\n",
       "      <td>good</td>\n",
       "      <td>8 cylinders</td>\n",
       "      <td>gas</td>\n",
       "      <td>66182</td>\n",
       "      <td>clean</td>\n",
       "      <td>other</td>\n",
       "      <td>None</td>\n",
       "      <td>pickup</td>\n",
       "      <td>red</td>\n",
       "      <td>al</td>\n",
       "      <td>2025-06-01</td>\n",
       "    </tr>\n",
       "    <tr>\n",
       "      <th>4</th>\n",
       "      <td>20250</td>\n",
       "      <td>2013.0</td>\n",
       "      <td>ford</td>\n",
       "      <td>f-150 xlt</td>\n",
       "      <td>excellent</td>\n",
       "      <td>6 cylinders</td>\n",
       "      <td>gas</td>\n",
       "      <td>205996</td>\n",
       "      <td>clean</td>\n",
       "      <td>automatic</td>\n",
       "      <td>rwd</td>\n",
       "      <td>truck</td>\n",
       "      <td>black</td>\n",
       "      <td>al</td>\n",
       "      <td>2025-06-01</td>\n",
       "    </tr>\n",
       "  </tbody>\n",
       "</table>\n",
       "</div>"
      ],
      "text/plain": [
       "   price    year manufacturer                     model  condition  \\\n",
       "0  45346  2014.0          gmc  sierra 1500 crew cab slt       good   \n",
       "1  30497  2010.0    chevrolet            silverado 1500       good   \n",
       "2  53446  2020.0    chevrolet       silverado 1500 crew       good   \n",
       "3  41836  2017.0       toyota      tundra double cab sr       good   \n",
       "4  20250  2013.0         ford                 f-150 xlt  excellent   \n",
       "\n",
       "     cylinders fuel  odometer title_status transmission drive    type  \\\n",
       "0  8 cylinders  gas     93218        clean        other  None  pickup   \n",
       "1  8 cylinders  gas    114632        clean        other  None  pickup   \n",
       "2  8 cylinders  gas     30835        clean        other  None  pickup   \n",
       "3  8 cylinders  gas     66182        clean        other  None  pickup   \n",
       "4  6 cylinders  gas    205996        clean    automatic   rwd   truck   \n",
       "\n",
       "  paint_color state  created_at  \n",
       "0       white    al  2025-06-01  \n",
       "1        blue    al  2025-06-01  \n",
       "2         red    al  2025-06-01  \n",
       "3         red    al  2025-06-01  \n",
       "4       black    al  2025-06-01  "
      ]
     },
     "execution_count": 1,
     "metadata": {},
     "output_type": "execute_result"
    }
   ],
   "source": [
    "import pandas as pd\n",
    "from datetime import datetime\n",
    "\n",
    "# Load cleaned dataset\n",
    "df = pd.read_csv(\"vehicles_cleaned.csv\")\n",
    "\n",
    "# Set constants\n",
    "USD_TO_CAD = 1.35\n",
    "MILES_TO_KM = 1.60934\n",
    "\n",
    "# Convert price and odometer\n",
    "df['price'] = (df['price'] * USD_TO_CAD).round(0).astype(\"Int64\")\n",
    "df['odometer'] = (df['odometer'] * MILES_TO_KM).round(0).astype(\"Int64\")\n",
    "\n",
    "# Normalize text fields\n",
    "text_fields = ['manufacturer', 'model', 'condition', 'cylinders', 'fuel', 'transmission', 'drive', 'size', 'type', 'paint_color']\n",
    "available_fields = [col for col in text_fields if col in df.columns]\n",
    "\n",
    "for col in available_fields:\n",
    "    df[col] = df[col].astype(str).str.strip().str.lower().replace(\"nan\", None)\n",
    "\n",
    "# Drop irrelevant columns\n",
    "columns_to_drop = ['url', 'region_url', 'image_url', 'county', 'VIN']\n",
    "available_to_drop = [col for col in columns_to_drop if col in df.columns]\n",
    "df.drop(columns=available_to_drop, inplace=True)\n",
    "\n",
    "# Add created_at\n",
    "df['created_at'] = datetime.now().strftime(\"%Y-%m-%d\")\n",
    "\n",
    "# Preview\n",
    "df.head()"
   ]
  },
  {
   "cell_type": "code",
   "execution_count": 2,
   "id": "eca8deaf-8888-4e0a-b778-0c41bb485575",
   "metadata": {},
   "outputs": [
    {
     "data": {
      "text/plain": [
       "Index(['id', 'url', 'region', 'region_url', 'price', 'year', 'manufacturer',\n",
       "       'model', 'condition', 'cylinders', 'fuel', 'odometer', 'title_status',\n",
       "       'transmission', 'VIN', 'drive', 'size', 'type', 'paint_color',\n",
       "       'image_url', 'description', 'county', 'state', 'lat', 'long',\n",
       "       'posting_date'],\n",
       "      dtype='object')"
      ]
     },
     "execution_count": 2,
     "metadata": {},
     "output_type": "execute_result"
    }
   ],
   "source": [
    "original_df = pd.read_csv(\"vehicles.csv\")\n",
    "original_df.columns"
   ]
  },
  {
   "cell_type": "code",
   "execution_count": null,
   "id": "aac3cd59-ad3e-4763-8d55-d956c2a27267",
   "metadata": {},
   "outputs": [],
   "source": []
  },
  {
   "cell_type": "code",
   "execution_count": 3,
   "id": "2118c6ec-156d-48a7-bc26-cb022405d05a",
   "metadata": {},
   "outputs": [
    {
     "data": {
      "text/plain": [
       "Index(['id', 'url', 'region', 'region_url', 'price', 'year', 'manufacturer',\n",
       "       'model', 'condition', 'cylinders', 'fuel', 'odometer', 'title_status',\n",
       "       'transmission', 'VIN', 'drive', 'size', 'type', 'paint_color',\n",
       "       'image_url', 'description', 'county', 'state', 'lat', 'long',\n",
       "       'posting_date'],\n",
       "      dtype='object')"
      ]
     },
     "execution_count": 3,
     "metadata": {},
     "output_type": "execute_result"
    }
   ],
   "source": [
    "original_df = pd.read_csv(\"vehicles.csv\")\n",
    "original_df.columns"
   ]
  },
  {
   "cell_type": "code",
   "execution_count": 4,
   "id": "5454899e-7f5b-406a-be6c-98c827a64650",
   "metadata": {},
   "outputs": [
    {
     "name": "stderr",
     "output_type": "stream",
     "text": [
      "C:\\Users\\huynha8\\AppData\\Local\\Temp\\ipykernel_1316\\272815841.py:5: FutureWarning: In a future version of pandas, parsing datetimes with mixed time zones will raise an error unless `utc=True`. Please specify `utc=True` to opt in to the new behaviour and silence this warning. To create a `Series` with mixed offsets and `object` dtype, please use `apply` and `datetime.datetime.strptime`\n",
      "  df['created_at'] = pd.to_datetime(original_df['posting_date'], errors='coerce').dt.date\n"
     ]
    },
    {
     "ename": "AttributeError",
     "evalue": "Can only use .dt accessor with datetimelike values",
     "output_type": "error",
     "traceback": [
      "\u001b[31m---------------------------------------------------------------------------\u001b[39m",
      "\u001b[31mAttributeError\u001b[39m                            Traceback (most recent call last)",
      "\u001b[36mCell\u001b[39m\u001b[36m \u001b[39m\u001b[32mIn[4]\u001b[39m\u001b[32m, line 5\u001b[39m\n\u001b[32m      2\u001b[39m original_df = pd.read_csv(\u001b[33m\"\u001b[39m\u001b[33mvehicles.csv\u001b[39m\u001b[33m\"\u001b[39m)\n\u001b[32m      4\u001b[39m \u001b[38;5;66;03m# Replace created_at with posting_date from original\u001b[39;00m\n\u001b[32m----> \u001b[39m\u001b[32m5\u001b[39m df[\u001b[33m'\u001b[39m\u001b[33mcreated_at\u001b[39m\u001b[33m'\u001b[39m] = \u001b[43mpd\u001b[49m\u001b[43m.\u001b[49m\u001b[43mto_datetime\u001b[49m\u001b[43m(\u001b[49m\u001b[43moriginal_df\u001b[49m\u001b[43m[\u001b[49m\u001b[33;43m'\u001b[39;49m\u001b[33;43mposting_date\u001b[39;49m\u001b[33;43m'\u001b[39;49m\u001b[43m]\u001b[49m\u001b[43m,\u001b[49m\u001b[43m \u001b[49m\u001b[43merrors\u001b[49m\u001b[43m=\u001b[49m\u001b[33;43m'\u001b[39;49m\u001b[33;43mcoerce\u001b[39;49m\u001b[33;43m'\u001b[39;49m\u001b[43m)\u001b[49m\u001b[43m.\u001b[49m\u001b[43mdt\u001b[49m.date\n",
      "\u001b[36mFile \u001b[39m\u001b[32m~\\Downloads\\git_workshop\\car-reference-db\\venv\\Lib\\site-packages\\pandas\\core\\generic.py:6299\u001b[39m, in \u001b[36mNDFrame.__getattr__\u001b[39m\u001b[34m(self, name)\u001b[39m\n\u001b[32m   6292\u001b[39m \u001b[38;5;28;01mif\u001b[39;00m (\n\u001b[32m   6293\u001b[39m     name \u001b[38;5;129;01mnot\u001b[39;00m \u001b[38;5;129;01min\u001b[39;00m \u001b[38;5;28mself\u001b[39m._internal_names_set\n\u001b[32m   6294\u001b[39m     \u001b[38;5;129;01mand\u001b[39;00m name \u001b[38;5;129;01mnot\u001b[39;00m \u001b[38;5;129;01min\u001b[39;00m \u001b[38;5;28mself\u001b[39m._metadata\n\u001b[32m   6295\u001b[39m     \u001b[38;5;129;01mand\u001b[39;00m name \u001b[38;5;129;01mnot\u001b[39;00m \u001b[38;5;129;01min\u001b[39;00m \u001b[38;5;28mself\u001b[39m._accessors\n\u001b[32m   6296\u001b[39m     \u001b[38;5;129;01mand\u001b[39;00m \u001b[38;5;28mself\u001b[39m._info_axis._can_hold_identifiers_and_holds_name(name)\n\u001b[32m   6297\u001b[39m ):\n\u001b[32m   6298\u001b[39m     \u001b[38;5;28;01mreturn\u001b[39;00m \u001b[38;5;28mself\u001b[39m[name]\n\u001b[32m-> \u001b[39m\u001b[32m6299\u001b[39m \u001b[38;5;28;01mreturn\u001b[39;00m \u001b[38;5;28;43mobject\u001b[39;49m\u001b[43m.\u001b[49m\u001b[34;43m__getattribute__\u001b[39;49m\u001b[43m(\u001b[49m\u001b[38;5;28;43mself\u001b[39;49m\u001b[43m,\u001b[49m\u001b[43m \u001b[49m\u001b[43mname\u001b[49m\u001b[43m)\u001b[49m\n",
      "\u001b[36mFile \u001b[39m\u001b[32m~\\Downloads\\git_workshop\\car-reference-db\\venv\\Lib\\site-packages\\pandas\\core\\accessor.py:224\u001b[39m, in \u001b[36mCachedAccessor.__get__\u001b[39m\u001b[34m(self, obj, cls)\u001b[39m\n\u001b[32m    221\u001b[39m \u001b[38;5;28;01mif\u001b[39;00m obj \u001b[38;5;129;01mis\u001b[39;00m \u001b[38;5;28;01mNone\u001b[39;00m:\n\u001b[32m    222\u001b[39m     \u001b[38;5;66;03m# we're accessing the attribute of the class, i.e., Dataset.geo\u001b[39;00m\n\u001b[32m    223\u001b[39m     \u001b[38;5;28;01mreturn\u001b[39;00m \u001b[38;5;28mself\u001b[39m._accessor\n\u001b[32m--> \u001b[39m\u001b[32m224\u001b[39m accessor_obj = \u001b[38;5;28;43mself\u001b[39;49m\u001b[43m.\u001b[49m\u001b[43m_accessor\u001b[49m\u001b[43m(\u001b[49m\u001b[43mobj\u001b[49m\u001b[43m)\u001b[49m\n\u001b[32m    225\u001b[39m \u001b[38;5;66;03m# Replace the property with the accessor object. Inspired by:\u001b[39;00m\n\u001b[32m    226\u001b[39m \u001b[38;5;66;03m# https://www.pydanny.com/cached-property.html\u001b[39;00m\n\u001b[32m    227\u001b[39m \u001b[38;5;66;03m# We need to use object.__setattr__ because we overwrite __setattr__ on\u001b[39;00m\n\u001b[32m    228\u001b[39m \u001b[38;5;66;03m# NDFrame\u001b[39;00m\n\u001b[32m    229\u001b[39m \u001b[38;5;28mobject\u001b[39m.\u001b[34m__setattr__\u001b[39m(obj, \u001b[38;5;28mself\u001b[39m._name, accessor_obj)\n",
      "\u001b[36mFile \u001b[39m\u001b[32m~\\Downloads\\git_workshop\\car-reference-db\\venv\\Lib\\site-packages\\pandas\\core\\indexes\\accessors.py:643\u001b[39m, in \u001b[36mCombinedDatetimelikeProperties.__new__\u001b[39m\u001b[34m(cls, data)\u001b[39m\n\u001b[32m    640\u001b[39m \u001b[38;5;28;01melif\u001b[39;00m \u001b[38;5;28misinstance\u001b[39m(data.dtype, PeriodDtype):\n\u001b[32m    641\u001b[39m     \u001b[38;5;28;01mreturn\u001b[39;00m PeriodProperties(data, orig)\n\u001b[32m--> \u001b[39m\u001b[32m643\u001b[39m \u001b[38;5;28;01mraise\u001b[39;00m \u001b[38;5;167;01mAttributeError\u001b[39;00m(\u001b[33m\"\u001b[39m\u001b[33mCan only use .dt accessor with datetimelike values\u001b[39m\u001b[33m\"\u001b[39m)\n",
      "\u001b[31mAttributeError\u001b[39m: Can only use .dt accessor with datetimelike values"
     ]
    }
   ],
   "source": [
    "# Load original dataset with posting_date\n",
    "original_df = pd.read_csv(\"vehicles.csv\")\n",
    "\n",
    "# Replace created_at with posting_date from original\n",
    "df['created_at'] = pd.to_datetime(original_df['posting_date'], errors='coerce').dt.date"
   ]
  },
  {
   "cell_type": "code",
   "execution_count": null,
   "id": "42bd3df5-e6e3-4052-ad77-f546e5d4d30c",
   "metadata": {},
   "outputs": [],
   "source": [
    "# Load original dataset\n",
    "original_df = pd.read_csv(\"vehicles.csv\")\n",
    "\n",
    "# Try parsing posting_date with error fallback\n",
    "posting_dates = pd.to_datetime(original_df['posting_date'], errors='coerce', utc=True)\n",
    "\n",
    "# Now extract the date part safely\n",
    "df['created_at'] = posting_dates.dt.date"
   ]
  },
  {
   "cell_type": "code",
   "execution_count": null,
   "id": "e7621fe6-68cb-4fab-a9b8-5fd4bb0edc44",
   "metadata": {},
   "outputs": [],
   "source": [
    "# Load original dataset\n",
    "original_df = pd.read_csv(\"vehicles.csv\")\n",
    "\n",
    "# Try parsing posting_date with error fallback\n",
    "posting_dates = pd.to_datetime(original_df['posting_date'], errors='coerce', utc=True)\n",
    "\n",
    "# Now extract the date part safely\n",
    "df['created_at'] = posting_dates.dt.date"
   ]
  },
  {
   "cell_type": "code",
   "execution_count": null,
   "id": "b4755e16-1848-4edd-9b80-b225355689e6",
   "metadata": {},
   "outputs": [],
   "source": [
    "df[['model', 'price', 'created_at']].head()"
   ]
  },
  {
   "cell_type": "code",
   "execution_count": null,
   "id": "b75621f3-586f-4576-9385-e938fd65003a",
   "metadata": {},
   "outputs": [],
   "source": [
    "# Load original dataset with posting_date\n",
    "original_df = pd.read_csv(\"vehicles.csv\", usecols=[\"id\", \"posting_date\"])\n",
    "\n",
    "# Convert posting_date to datetime safely\n",
    "original_df['posting_date'] = pd.to_datetime(original_df['posting_date'], errors='coerce', utc=True).dt.date\n",
    "\n",
    "# Merge posting_date into df using 'id'\n",
    "df = df.merge(original_df, how='left', left_on='id', right_on='id')\n",
    "\n",
    "# Rename for clarity\n",
    "df.rename(columns={'posting_date': 'created_at'}, inplace=True)"
   ]
  },
  {
   "cell_type": "code",
   "execution_count": 1,
   "id": "f22073c9-dced-4aee-a317-4451a5b0aa38",
   "metadata": {},
   "outputs": [
    {
     "name": "stdout",
     "output_type": "stream",
     "text": [
      "Columns: ['id', 'price', 'year', 'manufacturer', 'model', 'condition', 'cylinders', 'fuel'] ...\n",
      "✅ vehicle_listings table written: 421603 rows\n"
     ]
    }
   ],
   "source": [
    "import pandas as pd\n",
    "import sqlite3\n",
    "from pathlib import Path\n",
    "\n",
    "# Path helpers – adjust if your folder names differ\n",
    "BASE_DIR = Path.cwd().parent          # points to car-reference-db/\n",
    "CSV_PATH = BASE_DIR / \"data\" / \"vehicles_final_cleaned.csv\"\n",
    "DB_PATH  = BASE_DIR / \"db\" / \"car_reference.db\"\n",
    "\n",
    "# Load the FINAL cleaned CSV (it still has 'id')\n",
    "df = pd.read_csv(CSV_PATH)\n",
    "\n",
    "print(\"Columns:\", df.columns.tolist()[:8], \"...\")   # quick sanity-check\n",
    "\n",
    "# Write / replace the table in SQLite\n",
    "with sqlite3.connect(DB_PATH) as conn:\n",
    "    df.to_sql(\"vehicle_listings\", conn, if_exists=\"replace\", index=False)\n",
    "    print(\"✅ vehicle_listings table written:\", len(df), \"rows\")"
   ]
  },
  {
   "cell_type": "code",
   "execution_count": null,
   "id": "900a5b54-14eb-4d36-84f4-1c371af09ab6",
   "metadata": {},
   "outputs": [],
   "source": [
    "df = pd.read_csv(\"vehicles_cleaned.csv\")  # This version must include 'id'"
   ]
  },
  {
   "cell_type": "code",
   "execution_count": null,
   "id": "260d5c2d-4294-40e0-86fb-0c4fe68793b1",
   "metadata": {},
   "outputs": [],
   "source": [
    "print(\"df columns:\", df.columns)"
   ]
  },
  {
   "cell_type": "code",
   "execution_count": null,
   "id": "8cd0ae43-3f4a-44d4-ac63-3213798d6d2f",
   "metadata": {},
   "outputs": [],
   "source": [
    "# Only keep what's needed from original\n",
    "original_df = pd.read_csv(\"vehicles.csv\", usecols=[\"id\", \"posting_date\"])\n",
    "original_df['posting_date'] = pd.to_datetime(original_df['posting_date'], errors='coerce', utc=True).dt.date\n",
    "\n",
    "# Merge on id\n",
    "df = df.merge(original_df, how='left', on='id')\n",
    "df.rename(columns={'posting_date': 'created_at'}, inplace=True)"
   ]
  },
  {
   "cell_type": "code",
   "execution_count": null,
   "id": "02e4f4b2-d0d4-4da7-8164-3baa54cdab7f",
   "metadata": {},
   "outputs": [],
   "source": [
    "# Load cleaned dataset again from scratch, but include 'id'\n",
    "df = pd.read_csv(\"vehicles.csv\")\n",
    "\n",
    "# Keep only columns we care about (including 'id' now)\n",
    "columns_to_keep = [\n",
    "    'id', 'price', 'year', 'manufacturer', 'model', 'condition',\n",
    "    'cylinders', 'fuel', 'odometer', 'title_status',\n",
    "    'transmission', 'drive', 'type', 'paint_color', 'state'\n",
    "]\n",
    "df = df[columns_to_keep].copy()"
   ]
  },
  {
   "cell_type": "code",
   "execution_count": null,
   "id": "d2f904dd-baed-48c1-a46f-a68777a6b660",
   "metadata": {},
   "outputs": [],
   "source": [
    "# Convert currency and odometer to Canadian units\n",
    "USD_TO_CAD = 1.35\n",
    "MILES_TO_KM = 1.60934\n",
    "\n",
    "df['price'] = (df['price'] * USD_TO_CAD).round(0).astype(\"Int64\")\n",
    "df['odometer'] = (df['odometer'] * MILES_TO_KM).round(0).astype(\"Int64\")\n",
    "\n",
    "# Normalize text fields if they exist\n",
    "text_fields = ['manufacturer', 'model', 'condition', 'cylinders', 'fuel', 'transmission', 'drive', 'type', 'paint_color']\n",
    "for col in text_fields:\n",
    "    if col in df.columns:\n",
    "        df[col] = df[col].astype(str).str.strip().str.lower().replace(\"nan\", None)"
   ]
  },
  {
   "cell_type": "code",
   "execution_count": null,
   "id": "ae41e2fa-1b39-48bb-88ad-2c670102a68b",
   "metadata": {},
   "outputs": [],
   "source": [
    "# Extract and convert posting_date from original\n",
    "original_df = pd.read_csv(\"vehicles.csv\", usecols=[\"id\", \"posting_date\"])\n",
    "original_df['posting_date'] = pd.to_datetime(original_df['posting_date'], errors='coerce', utc=True).dt.date\n",
    "\n",
    "# Merge on id\n",
    "df = df.merge(original_df, how='left', on='id')\n",
    "df.rename(columns={'posting_date': 'created_at'}, inplace=True)"
   ]
  },
  {
   "cell_type": "code",
   "execution_count": null,
   "id": "aeb2a5e1-4019-4350-88ce-e14d04a72d4f",
   "metadata": {},
   "outputs": [],
   "source": [
    "df[['id', 'model', 'price', 'created_at']].head()"
   ]
  },
  {
   "cell_type": "code",
   "execution_count": null,
   "id": "fe5bcda5-b49c-4173-8ad4-cc6381f40698",
   "metadata": {},
   "outputs": [],
   "source": [
    "df[['model', 'created_at']].isna().sum()"
   ]
  },
  {
   "cell_type": "code",
   "execution_count": null,
   "id": "34c376c5-6fc0-4f4f-a6ca-866291235714",
   "metadata": {},
   "outputs": [],
   "source": []
  },
  {
   "cell_type": "code",
   "execution_count": null,
   "id": "1fefbd13-47aa-4a94-bbae-29d1ac5bfcbc",
   "metadata": {},
   "outputs": [],
   "source": [
    "df[df['model'].isna()].head()\n",
    "df[df['created_at'].isna()].head()"
   ]
  },
  {
   "cell_type": "code",
   "execution_count": null,
   "id": "507b9c8f-a09b-44ec-8cda-7d024e2da723",
   "metadata": {},
   "outputs": [],
   "source": [
    "raw_df = pd.read_csv(\"vehicles.csv\", usecols=[\"id\", \"model\", \"posting_date\"])\n",
    "raw_df[raw_df['model'].isna()].shape"
   ]
  },
  {
   "cell_type": "code",
   "execution_count": null,
   "id": "463b243d-68e6-4f22-84f2-98343866de97",
   "metadata": {},
   "outputs": [],
   "source": [
    "raw_df[raw_df['model'].isna()].head()"
   ]
  },
  {
   "cell_type": "code",
   "execution_count": null,
   "id": "2d6e947d-7889-4fe9-a5bc-09968f2f7be2",
   "metadata": {},
   "outputs": [],
   "source": [
    "print(f\"Final row count: {len(df)}\")"
   ]
  },
  {
   "cell_type": "code",
   "execution_count": null,
   "id": "abc2a157-724a-4240-9f0f-418d16c9b50d",
   "metadata": {},
   "outputs": [],
   "source": [
    "df = df.dropna(subset=['model', 'created_at'])"
   ]
  },
  {
   "cell_type": "code",
   "execution_count": null,
   "id": "a880462b-720a-457f-bd20-e6c924b625db",
   "metadata": {},
   "outputs": [],
   "source": [
    "print(f\"Final row count: {len(df)}\")"
   ]
  },
  {
   "cell_type": "code",
   "execution_count": null,
   "id": "8548f7dc-3466-4cdb-805d-a2b01dd7330c",
   "metadata": {},
   "outputs": [],
   "source": [
    "df.to_csv(\"vehicles_final_cleaned.csv\", index=False)"
   ]
  },
  {
   "cell_type": "code",
   "execution_count": null,
   "id": "09505d28-08ee-496b-8961-4ab4822f215d",
   "metadata": {},
   "outputs": [],
   "source": [
    "import sqlite3\n",
    "\n",
    "# Load your final cleaned CSV\n",
    "df = pd.read_csv(\"vehicles_final_cleaned.csv\")\n",
    "\n",
    "# Connect to your database (will create it if not exists)\n",
    "conn = sqlite3.connect(\"../car_reference.db\")  # adjust path if needed\n",
    "\n",
    "# Write to a new table\n",
    "df.to_sql(\"reference_listings\", conn, if_exists=\"replace\", index=False)\n",
    "\n",
    "# Confirm\n",
    "print(\"✅ Data imported into reference_listings\")\n",
    "conn.close()"
   ]
  },
  {
   "cell_type": "code",
   "execution_count": null,
   "id": "b9234fb0-9379-4134-ad44-2470d654e506",
   "metadata": {},
   "outputs": [],
   "source": [
    "import sqlite3\n",
    "import pandas as pd\n",
    "\n",
    "# Connect to the database\n",
    "conn = sqlite3.connect(\"../car_reference.db\")"
   ]
  },
  {
   "cell_type": "code",
   "execution_count": null,
   "id": "7cf8fa17-d891-4580-a4d4-d162e4cf1b3d",
   "metadata": {},
   "outputs": [],
   "source": [
    "# Preview 5 rows\n",
    "pd.read_sql_query(\"SELECT id, make, model, year, price, odometer, created_at FROM reference_listings LIMIT 5\", conn)"
   ]
  },
  {
   "cell_type": "code",
   "execution_count": null,
   "id": "81312a0f-7b85-40a2-9d42-0a9f9f41e7d3",
   "metadata": {},
   "outputs": [],
   "source": [
    "pd.read_sql_query(\"PRAGMA table_info(reference_listings)\", conn)"
   ]
  },
  {
   "cell_type": "code",
   "execution_count": null,
   "id": "fc20702f-73e1-44d4-ba41-0f80d71c4414",
   "metadata": {},
   "outputs": [],
   "source": [
    "pd.read_sql_query(\"SELECT id, manufacturer, model, year, price, odometer, created_at FROM reference_listings LIMIT 5\", conn)"
   ]
  },
  {
   "cell_type": "code",
   "execution_count": null,
   "id": "f5562eb2-0aa3-4022-bd7d-7d969d146cd7",
   "metadata": {},
   "outputs": [],
   "source": [
    "import pandas as pd\n",
    "import sqlite3\n",
    "\n",
    "# Load the cleaned data\n",
    "df = pd.read_csv(\"data/vehicles_final_cleaned.csv\")\n",
    "\n",
    "# Connect to the SQLite database\n",
    "conn = sqlite3.connect(\"db/car_reference.db\")\n",
    "\n",
    "# Overwrite vehicle_listings table with correct schema\n",
    "df.to_sql(\"vehicle_listings\", conn, if_exists=\"replace\", index=False)\n",
    "\n",
    "# Confirm it's written\n",
    "print(\"Table vehicle_listings successfully written.\")\n",
    "\n",
    "# Optional: check the columns\n",
    "print(df.columns.tolist())\n",
    "\n",
    "conn.close()"
   ]
  },
  {
   "cell_type": "code",
   "execution_count": null,
   "id": "5c1adebf-27ee-49bb-885b-96e33666c612",
   "metadata": {},
   "outputs": [],
   "source": [
    "import pandas as pd\n",
    "import sqlite3\n",
    "\n",
    "# Load the cleaned data\n",
    "df = pd.read_csv(\"data/vehicles_final_cleaned.csv\")\n",
    "\n",
    "# Connect to the SQLite database\n",
    "conn = sqlite3.connect(\"db/car_reference.db\")\n",
    "\n",
    "# Overwrite vehicle_listings table with correct schema\n",
    "df.to_sql(\"vehicle_listings\", conn, if_exists=\"replace\", index=False)\n",
    "\n",
    "# Confirm it's written\n",
    "print(\"Table vehicle_listings successfully written.\")\n",
    "\n",
    "# Optional: check the columns\n",
    "print(df.columns.tolist())\n",
    "\n",
    "conn.close()"
   ]
  },
  {
   "cell_type": "code",
   "execution_count": null,
   "id": "18335a9c-a67f-4266-bec0-68a5ac2fca55",
   "metadata": {},
   "outputs": [],
   "source": [
    "import sqlite3\n",
    "conn = sqlite3.connect(\"db/car_reference.db\")\n",
    "pd.read_sql_query(\"SELECT * FROM vehicle_listings LIMIT 5\", conn)"
   ]
  },
  {
   "cell_type": "code",
   "execution_count": null,
   "id": "8f317191-1dab-4fd3-adc2-85db9154e8f0",
   "metadata": {},
   "outputs": [],
   "source": []
  }
 ],
 "metadata": {
  "kernelspec": {
   "display_name": "Python 3 (ipykernel)",
   "language": "python",
   "name": "python3"
  },
  "language_info": {
   "codemirror_mode": {
    "name": "ipython",
    "version": 3
   },
   "file_extension": ".py",
   "mimetype": "text/x-python",
   "name": "python",
   "nbconvert_exporter": "python",
   "pygments_lexer": "ipython3",
   "version": "3.12.0"
  }
 },
 "nbformat": 4,
 "nbformat_minor": 5
}
